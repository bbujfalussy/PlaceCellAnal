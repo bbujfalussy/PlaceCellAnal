{
 "cells": [
  {
   "cell_type": "markdown",
   "metadata": {},
   "source": [
    "# Place cell activity from the Buzsáki lab  \n",
    "homepage: https://buzsakilab.com/wp/  \n",
    "source: https://crcns.org/data-sets/hc/hc-11/about-hc-11  \n",
    "mouse name: Achilles\n",
    "\n",
    "### About the data\n",
    "For detailed information please follow the link above. In brief, the rat was running back and forth on a linear track for reward. The activity of multiple hippocampal neurons have been recorded together with the position of the animal. \n",
    "\n",
    "The hippocampus is a brain region involved in spatial navigation. The task demands are fundementally different during movement versus immobile periods. Accordingly, the hippocampal neuronal activity is different during locomotion than during stops. Therefore the data should be analysed separately for locomotion and stops. \n",
    "\n",
    "In the original experiment neuronal activity during a short sleep episode before and after the navigation task (maze epoch) was also recorded. Here we selected data during maze epochs (no pre and post sleep). Spike times and positions have been rounded to 2 digits (10 ms and 1 cm precision). Cells have been renumbered.\n",
    "\n",
    "position.txt: first column: time (s) second column: position of the rat on a linear track in meter\n",
    "\n",
    "spikes.txt spike times (first column, s) and ID of ~120 pyramidal cells from the hippocampus\n",
    "\n",
    "\n",
    "### Load some useful libraries\n",
    "\n",
    "*numpy* - to work with arrays (https://numpy.org/), *matplotlib* - to create simple plots (https://matplotlib.org/), *scipy.interpolate* to convert from time to position (https://docs.scipy.org/doc/scipy/reference/interpolate.html)"
   ]
  },
  {
   "cell_type": "code",
   "execution_count": 1,
   "metadata": {},
   "outputs": [],
   "source": [
    "import numpy as np\n",
    "from matplotlib import pyplot as plt\n",
    "from scipy.interpolate import interp1d\n",
    "%matplotlib widget"
   ]
  },
  {
   "cell_type": "markdown",
   "metadata": {},
   "source": [
    "### 1. Load the data"
   ]
  },
  {
   "cell_type": "code",
   "execution_count": 2,
   "metadata": {},
   "outputs": [
    {
     "name": "stdout",
     "output_type": "stream",
     "text": [
      "(80762, 2)\n",
      "(270829, 2)\n"
     ]
    }
   ],
   "source": [
    "pos = np.genfromtxt(\"position.txt\")\n",
    "spikes = np.genfromtxt(\"spikes.txt\")\n",
    "print(pos.shape)\n",
    "print(spikes.shape)\n"
   ]
  },
  {
   "cell_type": "markdown",
   "metadata": {},
   "source": [
    "### 2. Plot the position data\n",
    "We plot the position as a function of time"
   ]
  },
  {
   "cell_type": "code",
   "execution_count": 3,
   "metadata": {},
   "outputs": [
    {
     "data": {
      "application/vnd.jupyter.widget-view+json": {
       "model_id": "06dbf54d129c483dade6581ad5bf2a3a",
       "version_major": 2,
       "version_minor": 0
      },
      "text/plain": [
       "Canvas(toolbar=Toolbar(toolitems=[('Home', 'Reset original view', 'home', 'home'), ('Back', 'Back to previous …"
      ]
     },
     "metadata": {},
     "output_type": "display_data"
    },
    {
     "data": {
      "text/plain": [
       "Text(0, 0.5, 'position (cm)')"
      ]
     },
     "execution_count": 3,
     "metadata": {},
     "output_type": "execute_result"
    }
   ],
   "source": [
    "fig = plt.figure()\n",
    "ax = fig.add_axes([0.2,0.1,0.8,0.8])\n",
    "ax.plot(pos[:,0], pos[:, 1])\n",
    "ax.set_title('rat position')\n",
    "ax.set_xlabel('time (s)')\n",
    "ax.set_ylabel('position (cm)')"
   ]
  },
  {
   "cell_type": "markdown",
   "metadata": {},
   "source": [
    "### 3. Plot the activity of a single cell"
   ]
  },
  {
   "cell_type": "code",
   "execution_count": 4,
   "metadata": {},
   "outputs": [],
   "source": [
    "cellid = 20 # the ID of the cell to plot\n",
    "i_cell = np.where(spikes[:,1] == cellid)[0] # the index where the cell was active - spikes were emitted\n",
    "celltime = spikes[i_cell,0]"
   ]
  },
  {
   "cell_type": "markdown",
   "metadata": {},
   "source": [
    "We build a simple function to calculate the position of the animal during the spikes"
   ]
  },
  {
   "cell_type": "code",
   "execution_count": 5,
   "metadata": {},
   "outputs": [],
   "source": [
    "F = interp1d(pos[:,0], pos[:,1]) \n",
    "cellpos = np.round(F(celltime), 2)"
   ]
  },
  {
   "cell_type": "code",
   "execution_count": 6,
   "metadata": {},
   "outputs": [
    {
     "data": {
      "application/vnd.jupyter.widget-view+json": {
       "model_id": "bdbc253390f446cabaf920dd728c36db",
       "version_major": 2,
       "version_minor": 0
      },
      "text/plain": [
       "Canvas(toolbar=Toolbar(toolitems=[('Home', 'Reset original view', 'home', 'home'), ('Back', 'Back to previous …"
      ]
     },
     "metadata": {},
     "output_type": "display_data"
    },
    {
     "data": {
      "text/plain": [
       "Text(0, 0.5, 'position (m)')"
      ]
     },
     "execution_count": 6,
     "metadata": {},
     "output_type": "execute_result"
    }
   ],
   "source": [
    "fig = plt.figure()\n",
    "ax = fig.add_axes([0.2,0.1,0.8,0.8])\n",
    "ax.plot(pos[:,0], pos[:, 1])\n",
    "ax.plot(celltime, cellpos, 'r+')\n",
    "ax.set_title('rat position')\n",
    "ax.set_xlabel('time (s)')\n",
    "ax.set_ylabel('position (m)')"
   ]
  },
  {
   "cell_type": "markdown",
   "metadata": {},
   "source": [
    "A few interesting points to note:\n",
    "- the cell is both active on the maze, during running and during immobility, at the two ends of the corridor.\n",
    "- in the corridor, it is more active in the first half, roughly between -0.5 and 0.5 m.\n",
    "- there are two activity bands, one around 0 and one around 0.4 m.\n",
    "- if you zoom in, you can see that the cell is direction sensitive: when the animal is running up, the cell fires around 0, whereas it fires arounf 0.4m during down runs."
   ]
  },
  {
   "cell_type": "code",
   "execution_count": null,
   "metadata": {},
   "outputs": [],
   "source": []
  }
 ],
 "metadata": {
  "kernelspec": {
   "display_name": "Python 3",
   "language": "python",
   "name": "python3"
  },
  "language_info": {
   "codemirror_mode": {
    "name": "ipython",
    "version": 3
   },
   "file_extension": ".py",
   "mimetype": "text/x-python",
   "name": "python",
   "nbconvert_exporter": "python",
   "pygments_lexer": "ipython3",
   "version": "3.8.5"
  }
 },
 "nbformat": 4,
 "nbformat_minor": 4
}
